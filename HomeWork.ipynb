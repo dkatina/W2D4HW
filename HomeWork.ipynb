{
 "cells": [
  {
   "cell_type": "markdown",
   "metadata": {},
   "source": [
    "# Object-Oriented-Programming (OOP)"
   ]
  },
  {
   "cell_type": "markdown",
   "metadata": {},
   "source": [
    "## Tasks Today:\n",
    "\n",
    "   \n",
    "\n",
    "1) <b>Creating a Class (Initializing/Declaring)</b> <br>\n",
    "2) <b>Using a Class (Instantiating)</b> <br>\n",
    " &nbsp;&nbsp;&nbsp;&nbsp; a) Creating One Instance <br>\n",
    " &nbsp;&nbsp;&nbsp;&nbsp; b) Creating Multiple Instances <br>\n",
    " &nbsp;&nbsp;&nbsp;&nbsp; c) In-Class Exercise #1 - Create a Class 'Car' and instantiate three different makes of cars <br>\n",
    "3) <b>The \\__init\\__() Method</b> <br>\n",
    " &nbsp;&nbsp;&nbsp;&nbsp; a) The 'self' Attribute <br>\n",
    "4) <b>Class Attributes</b> <br>\n",
    " &nbsp;&nbsp;&nbsp;&nbsp; a) Initializing Attributes <br>\n",
    " &nbsp;&nbsp;&nbsp;&nbsp; b) Setting an Attribute Outside of the \\__init\\__() Method <br>\n",
    " &nbsp;&nbsp;&nbsp;&nbsp; c) Setting Defaults for Attributes <br>\n",
    " &nbsp;&nbsp;&nbsp;&nbsp; d) Accessing Class Attributes <br>\n",
    " &nbsp;&nbsp;&nbsp;&nbsp; e) Changing Class Attributes <br>\n",
    " &nbsp;&nbsp;&nbsp;&nbsp; f) In-Class Exercise #2 - Add a color and wheels attribute to your 'Car' class <br>\n",
    "5) <b>Class Methods</b> <br>\n",
    " &nbsp;&nbsp;&nbsp;&nbsp; a) Creating <br>\n",
    " &nbsp;&nbsp;&nbsp;&nbsp; b) Calling <br>\n",
    " &nbsp;&nbsp;&nbsp;&nbsp; c) Modifying an Attribute's Value Through a Method <br>\n",
    " &nbsp;&nbsp;&nbsp;&nbsp; d) Incrementing an Attribute's Value Through a Method <br>\n",
    " &nbsp;&nbsp;&nbsp;&nbsp; e) In-Class Exercise #3 - Add a method that prints the cars color and wheel number, then call them <br>\n",
    "6) <b>Inheritance</b> <br>\n",
    " &nbsp;&nbsp;&nbsp;&nbsp; a) Syntax for Inheriting from a Parent Class <br>\n",
    " &nbsp;&nbsp;&nbsp;&nbsp; b) The \\__init\\__() Method for a Child Class (super()) <br>\n",
    " &nbsp;&nbsp;&nbsp;&nbsp; c) Defining Attributes and Methods for the Child Class <br>\n",
    " &nbsp;&nbsp;&nbsp;&nbsp; d) Method Overriding <br>\n",
    " &nbsp;&nbsp;&nbsp;&nbsp; e) In-Class Exercise #4 - Create a class 'Ford' that inherits from 'Car' class and initialize it as a Blue Ford Explorer with 4 wheels using the super() method <br>\n",
    "7) <b>Classes as Attributes</b> <br>\n",
    "8) <b>Exercises</b> <br>\n",
    " &nbsp;&nbsp;&nbsp;&nbsp; a) Exercise #1 - Turn the shopping cart program from yesterday into an object-oriented program <br>"
   ]
  },
  {
   "cell_type": "code",
   "execution_count": null,
   "metadata": {},
   "outputs": [],
   "source": [
    "def main():\n",
    "    while True:\n",
    "        response = input(\"\"\"What would you like to do\n",
    "You can:\n",
    "add\n",
    "remove\n",
    "show\n",
    "clear\n",
    "quit\n",
    "\"\"\")\n",
    "        if response.lower.strip() == 'quit':\n",
    "            #Show car thanks for shopping\n",
    "            print(\"thanks for shoppin\")\n",
    "            break\n",
    "        elif response.lower.strip() == 'add':\n",
    "            #add item\n",
    "            print(\"thanks for shoppin\")\n",
    "            break\n",
    "        elif response.lower.strip() == 'remove':\n",
    "            #Show car thanks for shopping\n",
    "            print(\"thanks for shoppin\")\n",
    "            break\n",
    "        elif response.lower.strip() == 'show':\n",
    "            #Show car thanks for shopping\n",
    "            print(\"thanks for shoppin\")\n",
    "            break\n",
    "        elif response.lower.strip() == 'clear':\n",
    "            #Show car thanks for shopping\n",
    "            print(\"thanks for shoppin\")\n",
    "            break\n",
    "               "
   ]
  },
  {
   "cell_type": "markdown",
   "metadata": {},
   "source": [
    "## Creating a Class (Initializing/Declaring)\n",
    "<p>When creating a class, function, or even a variable you are initializing that object. Initializing and Declaring occur at the same time in Python, whereas in lower level languages you have to declare an object before initializing it. This is the first step in the process of using a class.</p>"
   ]
  },
  {
   "cell_type": "code",
   "execution_count": 2,
   "metadata": {},
   "outputs": [],
   "source": [
    "class Car(): #Class names use PascalCase all words uppercase. no spaces\n",
    "    wheels = 4          #This variable is called a class attribute\n",
    "    color = 'blue'      #So is this\n",
    "    "
   ]
  },
  {
   "cell_type": "markdown",
   "metadata": {},
   "source": [
    "## Using a Class (Instantiating)\n",
    "<p>The process of creating a class is called <i>Instantiating</i>. Each time you create a variable of that type of class, it is referred to as an <i>Instance</i> of that class. This is the second step in the process of using a class.</p>"
   ]
  },
  {
   "cell_type": "markdown",
   "metadata": {},
   "source": [
    "##### Creating One Instance"
   ]
  },
  {
   "cell_type": "code",
   "execution_count": 3,
   "metadata": {
    "scrolled": true
   },
   "outputs": [
    {
     "name": "stdout",
     "output_type": "stream",
     "text": [
      "<__main__.Car object at 0x0000025D11BE7B50>\n"
     ]
    }
   ],
   "source": [
    "ford = Car()\n",
    "print(ford)"
   ]
  },
  {
   "cell_type": "code",
   "execution_count": 4,
   "metadata": {},
   "outputs": [
    {
     "data": {
      "text/plain": [
       "4"
      ]
     },
     "execution_count": 4,
     "metadata": {},
     "output_type": "execute_result"
    }
   ],
   "source": [
    "ford.wheels"
   ]
  },
  {
   "cell_type": "code",
   "execution_count": 6,
   "metadata": {},
   "outputs": [
    {
     "data": {
      "text/plain": [
       "'blue'"
      ]
     },
     "execution_count": 6,
     "metadata": {},
     "output_type": "execute_result"
    }
   ],
   "source": [
    "ford.color\n"
   ]
  },
  {
   "cell_type": "markdown",
   "metadata": {},
   "source": [
    "##### Creating Multiple Instances"
   ]
  },
  {
   "cell_type": "code",
   "execution_count": 7,
   "metadata": {
    "scrolled": true
   },
   "outputs": [
    {
     "name": "stdout",
     "output_type": "stream",
     "text": [
      "blue\n",
      "blue\n",
      "blue\n"
     ]
    }
   ],
   "source": [
    "chevy = Car()\n",
    "honda = Car()\n",
    "porsche = Car()\n",
    "print(chevy.color)\n",
    "print(honda.color)\n",
    "print(porsche.color)"
   ]
  },
  {
   "cell_type": "markdown",
   "metadata": {},
   "source": [
    "##### In-Class Exercise #1 - Create a Class 'Car' and Instantiate three different makes of cars"
   ]
  },
  {
   "cell_type": "code",
   "execution_count": 14,
   "metadata": {},
   "outputs": [
    {
     "name": "stdout",
     "output_type": "stream",
     "text": [
      "blue\n",
      "red\n",
      "pink\n"
     ]
    }
   ],
   "source": [
    "class Truck():\n",
    "    wheels= 4\n",
    "    color1= 'blue'\n",
    "    color2= 'red'\n",
    "    color3= 'pink'\n",
    "\n",
    "chevy = Truck()\n",
    "ford = Truck()\n",
    "toyota = Truck()\n",
    "print(chevy.color1)\n",
    "print(ford.color2)\n",
    "print(toyota.color3)\n",
    "    "
   ]
  },
  {
   "cell_type": "markdown",
   "metadata": {},
   "source": [
    "## The \\__init\\__() Method <br>\n",
    "<p>This method is used in almost every created class, and called only once upon the creation of the class instance. This method will initialize all variables needed for the object.</p>"
   ]
  },
  {
   "cell_type": "code",
   "execution_count": 23,
   "metadata": {},
   "outputs": [
    {
     "name": "stdout",
     "output_type": "stream",
     "text": [
      "4\n",
      "3\n",
      "4\n",
      "red\n",
      "4.7L\n",
      "3\n",
      "green\n",
      "4.7L\n"
     ]
    }
   ],
   "source": [
    "class Car():\n",
    "    engine = '4.7L' #Shared amongst all cars\n",
    "        \n",
    "    def __init__(self, color, num_of_wheels=4):  #Contructor (creates class instance)\n",
    "        self.wheels = num_of_wheels    #Instance Attribute specific to declaration i.e ford\n",
    "        self.color = color\n",
    "        \n",
    "        \n",
    "ford = Car('red')\n",
    "trike = Car('green',3)\n",
    "\n",
    "print(ford.wheels)\n",
    "print(trike.wheels)\n",
    "\n",
    "my_cars = [ford, trike]\n",
    "\n",
    "for car in my_cars:\n",
    "    print(car.wheels)\n",
    "    print(car.color)\n",
    "    print(car.engine)\n"
   ]
  },
  {
   "cell_type": "markdown",
   "metadata": {},
   "source": [
    "##### The 'self' Attribute <br>\n",
    "<p>This attribute is required to keep track of specific instance's attributes. Without the self attribute, the program would not know how to reference or keep track of an instance's attributes.</p>"
   ]
  },
  {
   "cell_type": "code",
   "execution_count": null,
   "metadata": {},
   "outputs": [],
   "source": [
    "# see above"
   ]
  },
  {
   "cell_type": "markdown",
   "metadata": {},
   "source": [
    "## Class Attributes <br>\n",
    "<p>While variables are inside of a class, they are referred to as attributes and not variables. When someone says 'attribute' you know they're speaking about a class. Attributes can be initialized through the init method, or outside of it.</p>"
   ]
  },
  {
   "cell_type": "markdown",
   "metadata": {},
   "source": [
    "##### Initializing Attributes"
   ]
  },
  {
   "cell_type": "code",
   "execution_count": null,
   "metadata": {},
   "outputs": [],
   "source": [
    "# see above"
   ]
  },
  {
   "cell_type": "markdown",
   "metadata": {},
   "source": [
    "##### Accessing Class Attributes"
   ]
  },
  {
   "cell_type": "code",
   "execution_count": null,
   "metadata": {
    "scrolled": true
   },
   "outputs": [],
   "source": [
    "# See Above"
   ]
  },
  {
   "cell_type": "markdown",
   "metadata": {},
   "source": [
    "##### Setting Defaults for Attributes"
   ]
  },
  {
   "cell_type": "code",
   "execution_count": null,
   "metadata": {},
   "outputs": [],
   "source": []
  },
  {
   "cell_type": "markdown",
   "metadata": {},
   "source": [
    "##### Changing Class Attributes <br>\n",
    "<p>Keep in mind there are global class attributes and then there are attributes only available to each class instance which won't effect other classes.</p>"
   ]
  },
  {
   "cell_type": "code",
   "execution_count": null,
   "metadata": {},
   "outputs": [],
   "source": []
  },
  {
   "cell_type": "code",
   "execution_count": null,
   "metadata": {},
   "outputs": [],
   "source": []
  },
  {
   "cell_type": "markdown",
   "metadata": {},
   "source": [
    "##### In-Class Exercise #2 - Add a doors and seats attribute to your 'Car' class then print out two different instances with different doors and seats"
   ]
  },
  {
   "cell_type": "code",
   "execution_count": 30,
   "metadata": {},
   "outputs": [
    {
     "name": "stdout",
     "output_type": "stream",
     "text": [
      "A a racecar has 0 doors and can seat 1 driver\n",
      "A limo can seat 12 people and has 3 doors\n"
     ]
    }
   ],
   "source": [
    "class Car():\n",
    "    def __init__(self, num_doors=2, num_seats=2):\n",
    "        self.seat = num_seats\n",
    "        self.doors = num_doors\n",
    "\n",
    "racecar = Car(0,1)\n",
    "limo = Car(3,12)\n",
    "\n",
    "\n",
    "\n",
    "print(f\"A a racecar has {racecar.doors} doors and can seat {racecar.seat} driver\")\n",
    "print(f\"A limo can seat {limo.seat} people and has {limo.doors} doors\")"
   ]
  },
  {
   "cell_type": "markdown",
   "metadata": {},
   "source": [
    "## Class Methods <br>\n",
    "<p>While inside of a class, functions are referred to as 'methods'. If you hear someone mention methods, they're speaking about classes. Methods are essentially functions, but only callable on the instances of a class.</p>"
   ]
  },
  {
   "cell_type": "markdown",
   "metadata": {},
   "source": [
    "##### Creating"
   ]
  },
  {
   "cell_type": "code",
   "execution_count": 49,
   "metadata": {},
   "outputs": [],
   "source": [
    "class Car():\n",
    "    def __init__(self,wheels,color,seats):\n",
    "        self.wheels = wheels\n",
    "        self.color = color\n",
    "        self.seats = seats\n",
    "        self.has_sunroof = False\n",
    "        \n",
    "    def drive(self):\n",
    "        print(\"VROOOOOOM\")\n",
    "    \n",
    "    def describe(self):\n",
    "        print(f\"This car has {self.wheels} wheels, {self.seats} seats, and is {self.color}\")\n",
    "\n",
    "    def set_color(self, new_color): \n",
    "        self.color = new_color.lower()\n",
    "              \n",
    "    def get_color(self):\n",
    "        return self.color\n",
    "    \n",
    "    def add_seats(self):\n",
    "        self.seats+=1"
   ]
  },
  {
   "cell_type": "code",
   "execution_count": 50,
   "metadata": {},
   "outputs": [
    {
     "name": "stdout",
     "output_type": "stream",
     "text": [
      "This car has 4 wheels, 8 seats, and is red\n",
      "VROOOOOOM\n",
      "8\n",
      "9\n"
     ]
    }
   ],
   "source": [
    "chevy = Car(4,'red',8)\n",
    "\n",
    "chevy.describe()\n",
    "chevy.drive()\n",
    "print(chevy.seats)\n",
    "chevy.add_seats()\n",
    "print(chevy.seats)\n",
    "\n"
   ]
  },
  {
   "cell_type": "markdown",
   "metadata": {},
   "source": [
    "##### Calling"
   ]
  },
  {
   "cell_type": "code",
   "execution_count": null,
   "metadata": {},
   "outputs": [],
   "source": [
    "# See Above"
   ]
  },
  {
   "cell_type": "markdown",
   "metadata": {},
   "source": [
    "##### Modifying an Attribute's Value Through a Method"
   ]
  },
  {
   "cell_type": "code",
   "execution_count": null,
   "metadata": {},
   "outputs": [],
   "source": []
  },
  {
   "cell_type": "markdown",
   "metadata": {},
   "source": [
    "##### Incrementing an Attribute's Value Through a Method"
   ]
  },
  {
   "cell_type": "code",
   "execution_count": null,
   "metadata": {},
   "outputs": [],
   "source": []
  },
  {
   "cell_type": "markdown",
   "metadata": {},
   "source": [
    "##### In-Class Exercise #3 - Add a method that takes in three parameters of year, doors and seats and prints out a formatted print statement with make, model, year, seats, and doors"
   ]
  },
  {
   "cell_type": "code",
   "execution_count": 61,
   "metadata": {},
   "outputs": [
    {
     "name": "stdout",
     "output_type": "stream",
     "text": [
      "This car is a 2017 hyundai sonata with 4 doors and 5 seats\n",
      "hyundai sonata is better than hyundai elantra\n"
     ]
    }
   ],
   "source": [
    "class Car():\n",
    "    engine = \"4.7L\"\n",
    "    def __init__(self,make,model):\n",
    "        self.make = make\n",
    "        self.model = model\n",
    "        self.year = None\n",
    "        self.doors = None\n",
    "        self.seats = None\n",
    "    \n",
    "    def set_year(self, year):\n",
    "        self.year = year\n",
    "    \n",
    "    def set_doors(self, doors):\n",
    "        self.doors = doors\n",
    "    \n",
    "    def set_seats(self, seats):\n",
    "        self.seats = seats\n",
    "    def desc(self):\n",
    "        print(f\"This car is a {self.year} {self.make} {self.model} with {self.doors} doors and {self.seats} seats\")\n",
    "        \n",
    "    @classmethod\n",
    "    def which_is_better(cls, car1, car2):\n",
    "        if car1.year > car2.year:\n",
    "            print(f'{car1.make} {car1.model} is better than {car2.make} {car2.model}')\n",
    "        else:\n",
    "            print(f'{car2.make} {car2.model} is better than {car1.make} {car1.model}')\n",
    "        \n",
    "frank = Car('hyundai','sonata')\n",
    "\n",
    "frank.set_year(2017)\n",
    "frank.set_doors(4)\n",
    "frank.set_seats(5)\n",
    "\n",
    "frank.desc()\n",
    "        \n",
    "    \n",
    "bug = Car('hyundai','elantra')\n",
    "\n",
    "bug.set_year(2013)\n",
    "bug.set_doors(4)\n",
    "bug.set_seats(5)\n",
    "    \n",
    "\n",
    "Car.which_is_better(frank,bug)\n",
    "\n",
    "\n"
   ]
  },
  {
   "cell_type": "markdown",
   "metadata": {},
   "source": [
    "## Inheritance <br>\n",
    "<p>You can create a child-parent relationship between two classes by using inheritance. What this allows you to do is have overriding methods, but also inherit traits from the parent class. Think of it as an actual parent and child, the child will inherit the parent's genes, as will the classes in OOP</p>"
   ]
  },
  {
   "cell_type": "markdown",
   "metadata": {},
   "source": [
    "##### Syntax for Inheriting from a Parent Class"
   ]
  },
  {
   "cell_type": "code",
   "execution_count": null,
   "metadata": {},
   "outputs": [],
   "source": []
  },
  {
   "cell_type": "markdown",
   "metadata": {},
   "source": [
    "##### The \\__init\\__() Method for a Child Class - super()"
   ]
  },
  {
   "cell_type": "code",
   "execution_count": null,
   "metadata": {
    "scrolled": true
   },
   "outputs": [],
   "source": []
  },
  {
   "cell_type": "markdown",
   "metadata": {},
   "source": [
    "##### Defining Attributes and Methods for the Child Class"
   ]
  },
  {
   "cell_type": "code",
   "execution_count": null,
   "metadata": {},
   "outputs": [],
   "source": [
    "# See Above"
   ]
  },
  {
   "cell_type": "markdown",
   "metadata": {},
   "source": [
    "##### Method Overriding"
   ]
  },
  {
   "cell_type": "code",
   "execution_count": null,
   "metadata": {},
   "outputs": [],
   "source": [
    "# See Above"
   ]
  },
  {
   "cell_type": "markdown",
   "metadata": {},
   "source": [
    "## Classes as Attributes <br>\n",
    "<p>Classes can also be used as attributes within another class. This is useful in situations where you need to keep variables locally stored, instead of globally stored.</p>"
   ]
  },
  {
   "cell_type": "code",
   "execution_count": null,
   "metadata": {},
   "outputs": [],
   "source": [
    "class Cart():\n",
    "\n",
    "    def __init__(self):\n",
    "        self.my_list = {}\n",
    "    \n",
    "    def add_item(self):\n",
    "        shopping = True\n",
    "        print(\"\\nTo stop adding type: 'quit'\")\n",
    "        while shopping:\n",
    "            item = input('\\nWhat would you like to add? ')\n",
    "            item = item.lower().strip()\n",
    "            if item != 'quit':\n",
    "                number = input(f'\\nHow many {item}s would you like to add: ')\n",
    "                if number.lower() == 'quit':\n",
    "                    print(f\"\\nNo {item}s added\")\n",
    "                    shopping = False\n",
    "                else:\n",
    "                    number = int(number)\n",
    "                    if item not in self.my_list:\n",
    "                        self.my_list[item] = number\n",
    "                    else:\n",
    "                        self.my_list[item] += number\n",
    "            else:\n",
    "                shopping = False\n",
    "    \n",
    "    def del_item(self):\n",
    "        deleting = True\n",
    "        print(\"To stop deleting type: 'quit'\")\n",
    "        while deleting:\n",
    "            item = input('\\nWhat would you like to remove? ')\n",
    "            item = item.lower().strip()\n",
    "            if item == 'quit':\n",
    "                deleting = False\n",
    "                print('\\nItem(s) removed')\n",
    "            else:\n",
    "                if item not in self.my_list:\n",
    "                    print('\\nMaybe try deleting somthing you actually have....moron')\n",
    "                else:\n",
    "                    number = input(f'\\nHow many {item}s would you like to remove: ')\n",
    "                    if number.lower() == 'quit':\n",
    "                        print(f\"\\nNo {item}s removed\")\n",
    "                        deleting = False\n",
    "                    else:\n",
    "                        number = int(number)\n",
    "                        if number > self.my_list[item]:\n",
    "                            print(f\"\\nYou only had {self.my_list[item]} {item}s in your cart,\\nso we removed them all\")\n",
    "                            del self.my_list[item]\n",
    "                        else:\n",
    "                            self.my_list[item] -= number\n",
    "                            print(f'\\nYou now have {self.my_list[item]} {item}(s)')\n",
    "                            if item == 0:\n",
    "                                del self.my_list[item]\n",
    "\n",
    "\n",
    "    def show_list(self):\n",
    "        print(\"Your Shopping list: \")\n",
    "        if self.my_list:\n",
    "            for item, quant in self.my_list.items():\n",
    "                print(f\"{item.title()} [{quant}]\")\n",
    "        else:\n",
    "            print(\"\\nYour cart is empty.\")\n",
    "\n",
    "    def get_price(self):\n",
    "        price = 0\n",
    "        for item, quant in self.my_list.items():\n",
    "            if item[0] == 'a' or item[0] == 'b':\n",
    "                price += (2.75 * quant)\n",
    "            elif item[0] == 'c' or item[0] == 'd':\n",
    "                price += (4.67 * quant)\n",
    "            elif item[0] == 'e' or item[0] == 'f':\n",
    "                price += (8.92 * quant)\n",
    "            elif item[0] == 'g' or item[0] == 'h':\n",
    "                price += (10.34 * quant)\n",
    "            elif item[0] == 'i' or item[0] == 'j':\n",
    "                price += (11.97 * quant)\n",
    "            elif item[0] == 'k' or item[0] == 'l':\n",
    "                price += (1.40 * quant)\n",
    "            elif item[0] == 'm' or item[0] == 'n':\n",
    "                price += (8.90 * quant)  \n",
    "            elif item[0] == 'o' or item[0] == 'p':\n",
    "                price += (15.67 * quant)     \n",
    "            elif item[0] == 'q' or item[0] == 'r':\n",
    "                price += (20.67 * quant)     \n",
    "            elif item[0] == 's' or item[0] == 't':\n",
    "                price += (12.67 * quant)     \n",
    "            elif item[0] == 'u' or item[0] == 'v':\n",
    "                price += (18.92 * quant)     \n",
    "            elif item[0] == 'w' or item[0] == 'x':\n",
    "                price += (7.61 * quant) \n",
    "            elif item[0] == 'y' or item[0] == 'z':\n",
    "                price += (3.80 * quant)              \n",
    "        return price\n",
    "\n",
    "    def shop(self):\n",
    "        shopping = True\n",
    "        while shopping:\n",
    "            do = input('\\nWould you like to show/add/delete/save or checkout: ')\n",
    "            if do.lower() == 'save':\n",
    "                break\n",
    "            elif do.lower() == 'add':\n",
    "                self.add_item()\n",
    "            elif do.lower() == 'delete':\n",
    "                self.del_item()\n",
    "            elif do.lower() == 'show':\n",
    "                self.show_list()\n",
    "            elif do.lower() == 'checkout':\n",
    "                print(\"That will be: $\", self.get_price(), sep='')\n",
    "                last_call = input('\\nLast Call: Edit or Continue ')\n",
    "                if last_call.lower() == 'continue':\n",
    "                    print(\"\\nThank you for Shopping with Us!\\n\")\n",
    "                    self.my_list = {}\n",
    "                    shopping = False\n",
    "            else:\n",
    "                print(\"\\nPlease enter an actual option silly\")\n",
    "\n",
    "dylan = Cart()\n",
    "grace = Cart()\n",
    "dylan.shop()\n",
    "\n",
    "print(\"\\nI Just exited my cart running grace to check her cart!\\n\")\n",
    "\n",
    "grace.shop()\n",
    "\n",
    "print(\"\\n Checking Dylan's cart again\")\n",
    "dylan.shop()\n"
   ]
  },
  {
   "cell_type": "markdown",
   "metadata": {},
   "source": [
    "# Exercises"
   ]
  },
  {
   "cell_type": "markdown",
   "metadata": {},
   "source": [
    "### Exercise 1 - Turn the shopping cart program from yesterday into an object-oriented program\n",
    "\n",
    "The comments in the cell below are there as a guide for thinking about the problem. However, if you feel a different way is best for you and your own thought process, please do what feels best for you by all means."
   ]
  },
  {
   "cell_type": "code",
   "execution_count": null,
   "metadata": {},
   "outputs": [],
   "source": [
    "class Cart():\n",
    "\n",
    "    def __init__(self):\n",
    "        self.my_list = {}\n",
    "    \n",
    "    def add_item(self):\n",
    "        shopping = True\n",
    "        print(\"\\nTo stop adding type: 'quit'\")\n",
    "        while shopping:\n",
    "            item = input('\\nWhat would you like to add? ')\n",
    "            item = item.lower().strip()\n",
    "            if item != 'quit':\n",
    "                number = input(f'\\nHow many {item}s would you like to add: ')\n",
    "                if number.lower() == 'quit':\n",
    "                    print(f\"\\nNo {item}s added\")\n",
    "                    shopping = False\n",
    "                else:\n",
    "                    number = int(number)\n",
    "                    if item not in self.my_list:\n",
    "                        self.my_list[item] = number\n",
    "                    else:\n",
    "                        self.my_list[item] += number\n",
    "            else:\n",
    "                shopping = False\n",
    "    \n",
    "    def del_item(self):\n",
    "        deleting = True\n",
    "        print(\"To stop deleting type: 'quit'\")\n",
    "        while deleting:\n",
    "            item = input('\\nWhat would you like to remove? ')\n",
    "            item = item.lower().strip()\n",
    "            if item == 'quit':\n",
    "                deleting = False\n",
    "                print('\\nItem(s) removed')\n",
    "            else:\n",
    "                if item not in self.my_list:\n",
    "                    print('\\nMaybe try deleting somthing you actually have....moron')\n",
    "                else:\n",
    "                    number = input(f'\\nHow many {item}s would you like to remove: ')\n",
    "                    if number.lower() == 'quit':\n",
    "                        print(f\"\\nNo {item}s removed\")\n",
    "                        deleting = False\n",
    "                    else:\n",
    "                        number = int(number)\n",
    "                        if number > self.my_list[item]:\n",
    "                            print(f\"\\nYou only had {self.my_list[item]} {item}s in your cart,\\nso we removed them all\")\n",
    "                            del self.my_list[item]\n",
    "                        else:\n",
    "                            self.my_list[item] -= number\n",
    "                            print(f'\\nYou now have {self.my_list[item]} {item}(s)')\n",
    "                            if item == 0:\n",
    "                                del self.my_list[item]\n",
    "\n",
    "\n",
    "    def show_list(self):\n",
    "        print(\"Your Shopping list: \")\n",
    "        if self.my_list:\n",
    "            for item, quant in self.my_list.items():\n",
    "                print(f\"{item.title()} [{quant}]\")\n",
    "        else:\n",
    "            print(\"\\nYour cart is empty.\")\n",
    "\n",
    "    def get_price(self):\n",
    "        price = 0\n",
    "        for item, quant in self.my_list.items():\n",
    "            if item[0] == 'a' or item[0] == 'b':\n",
    "                price += (2.75 * quant)\n",
    "            elif item[0] == 'c' or item[0] == 'd':\n",
    "                price += (4.67 * quant)\n",
    "            elif item[0] == 'e' or item[0] == 'f':\n",
    "                price += (8.92 * quant)\n",
    "            elif item[0] == 'g' or item[0] == 'h':\n",
    "                price += (10.34 * quant)\n",
    "            elif item[0] == 'i' or item[0] == 'j':\n",
    "                price += (11.97 * quant)\n",
    "            elif item[0] == 'k' or item[0] == 'l':\n",
    "                price += (1.40 * quant)\n",
    "            elif item[0] == 'm' or item[0] == 'n':\n",
    "                price += (8.90 * quant)  \n",
    "            elif item[0] == 'o' or item[0] == 'p':\n",
    "                price += (15.67 * quant)     \n",
    "            elif item[0] == 'q' or item[0] == 'r':\n",
    "                price += (20.67 * quant)     \n",
    "            elif item[0] == 's' or item[0] == 't':\n",
    "                price += (12.67 * quant)     \n",
    "            elif item[0] == 'u' or item[0] == 'v':\n",
    "                price += (18.92 * quant)     \n",
    "            elif item[0] == 'w' or item[0] == 'x':\n",
    "                price += (7.61 * quant) \n",
    "            elif item[0] == 'y' or item[0] == 'z':\n",
    "                price += (3.80 * quant)              \n",
    "        return price\n",
    "\n",
    "    def shop(self):\n",
    "        shopping = True\n",
    "        while shopping:\n",
    "            do = input('\\nWould you like to show/add/delete/save or checkout: ')\n",
    "            if do.lower() == 'save':\n",
    "                break\n",
    "            elif do.lower() == 'add':\n",
    "                self.add_item()\n",
    "            elif do.lower() == 'delete':\n",
    "                self.del_item()\n",
    "            elif do.lower() == 'show':\n",
    "                self.show_list()\n",
    "            elif do.lower() == 'checkout':\n",
    "                print(\"That will be: $\", self.get_price(), sep='')\n",
    "                last_call = input('\\nLast Call: Edit or Continue ')\n",
    "                if last_call.lower() == 'continue':\n",
    "                    print(\"\\nThank you for Shopping with Us!\\n\")\n",
    "                    self.my_list = {}\n",
    "                    shopping = False\n",
    "            else:\n",
    "                print(\"\\nPlease enter an actual option silly\")\n",
    "\n",
    "dylan = Cart()\n",
    "grace = Cart()\n",
    "dylan.shop()\n",
    "\n",
    "print(\"\\nI Just exited my cart running grace to check her cart!\\n\")\n",
    "\n",
    "grace.shop()\n",
    "\n",
    "print(\"\\n Checking Dylan's cart again\")\n",
    "dylan.shop()"
   ]
  },
  {
   "cell_type": "markdown",
   "metadata": {},
   "source": [
    "### Exercise 2 - Write a Python class which has two methods get_String and print_String. get_String accept a string from the user and print_String print the string in upper case"
   ]
  },
  {
   "cell_type": "code",
   "execution_count": null,
   "metadata": {},
   "outputs": [],
   "source": [
    "from mimetypes import guess_all_extensions\n",
    "from random import choice\n",
    "import os\n",
    "\n",
    "# Get word to guess\n",
    "\n",
    "# Display the blanks\n",
    "# Ask for a letter\n",
    "# See if the letter is in the word\n",
    "#   If on board add letter\n",
    "# Check if they solved the puzzle.\n",
    "#Let the guess another letter or the word\n",
    "#   if out of moves game over\n",
    "#repeat using a while loop\n",
    "\n",
    "from curses import use_default_colors\n",
    "\n",
    "        \n",
    "class LetterBoard():\n",
    "    MAX_MOVES = 7\n",
    "    WORD_BANK = (\"cookie\", \"shortcake\", \"cheesecake\", \"tiramisu\", \"donut\", \"cupcakes\",\n",
    "                \"donut\", \"cupcake\", \"baklava\", \"cannoli\",)\n",
    "\n",
    "    def __init__(self):\n",
    "        self.word = choice(LetterBoard.WORD_BANK)\n",
    "        self.guessed_letters = []\n",
    "        self.number_of_guesses = 0\n",
    "\n",
    "    def show_word(self):\n",
    "        os.system('cls' if os.name == 'nt' else 'clear')\n",
    "        board = [\"_\" if letter not in self.guessed_letters else letter for letter in self.word]\n",
    "        for letter in board:\n",
    "            print(letter, end=\" \")\n",
    "        print()\n",
    "        print(\"Guessed Letters: \", end=\" \")\n",
    "        if self.guessed_letters:\n",
    "            for letter in self.guessed_letters:\n",
    "                print(letter, end=\" \")\n",
    "        else:\n",
    "            print(\"You haven't guessed a letter yet\")\n",
    "            print(f\"You have {LetterBoard.MAX_MOVES - self.number_of_guesses} moves left\")\n",
    "\n",
    "    def guess_letter(self, letter):\n",
    "        if len(letter) > 1:\n",
    "            print(\"Invalid guess, must be a single letter\")\n",
    "            return\n",
    "        if letter in self.word:\n",
    "            count = self.word.count(letter)\n",
    "            print(f\"you found {count} {letter}{'s' if count > 1 else ''}\")\n",
    "        else:\n",
    "            print(\"WROOOONG\")\n",
    "            self.number_of_guesses += 1\n",
    "        self.guessed_letters.append(letter)\n",
    "        \n",
    "    def check_if_all_letters(self):\n",
    "        for letter in self.word:\n",
    "            if letter not in self.guessed_letters:\n",
    "                return False\n",
    "            return True\n",
    "    def user_won(self):\n",
    "        print(f\"Congrats You Solved the Puzzle with {LetterBoard.MAX_MOVES - self.number_of_guesses} move(s) left\")\n",
    "    def guessed_word_correct(self, word):\n",
    "        if word == self.word:\n",
    "            return True\n",
    "        else:\n",
    "            return False\n",
    "    def has_guesses_left(self):\n",
    "        if self.number_of_guesses < LetterBoard.MAX_MOVES:\n",
    "            return True\n",
    "        return False\n",
    "    def user_lost(self):\n",
    "        print(\"YOU LOOOOOOSE\")\n",
    "\n",
    "\n",
    "\n",
    "class UI():\n",
    "\n",
    "    letter_board = LetterBoard()\n",
    "\n",
    "    @classmethod\n",
    "    def main(cls):\n",
    "        while True:\n",
    "\n",
    "            cls.letter_board.show_word()\n",
    "\n",
    "            letter = input(\"What letter would you like to guess? \").lower()\n",
    "\n",
    "            cls.letter_board.guess_letter(letter)\n",
    "\n",
    "\n",
    "            cls.letter_board.show_word()\n",
    "\n",
    "            if cls.letter_board.check_if_all_letters():\n",
    "                cls.letter_board.user_won()\n",
    "                break\n",
    "\n",
    "            word_guess = input(\"Would you like to guss the word? Y/N \".lower())\n",
    "\n",
    "            if word_guess == 'y':\n",
    "                word = input(\"What is your guss? \")\n",
    "                if cls.letter_board.guessed_word_correct(word):\n",
    "                    cls.letter_board.user_won()\n",
    "                    break\n",
    "\n",
    "            if not cls.letter_board.has_guesses_left():\n",
    "                cls.letter_board.user_lost()\n",
    "                break\n",
    "\n",
    "\n",
    "if __name__ == \"__main__\":\n",
    "\n",
    "    UI.main()"
   ]
  }
 ],
 "metadata": {
  "kernelspec": {
   "display_name": "Python 3 (ipykernel)",
   "language": "python",
   "name": "python3"
  },
  "language_info": {
   "codemirror_mode": {
    "name": "ipython",
    "version": 3
   },
   "file_extension": ".py",
   "mimetype": "text/x-python",
   "name": "python",
   "nbconvert_exporter": "python",
   "pygments_lexer": "ipython3",
   "version": "3.9.12"
  }
 },
 "nbformat": 4,
 "nbformat_minor": 2
}
